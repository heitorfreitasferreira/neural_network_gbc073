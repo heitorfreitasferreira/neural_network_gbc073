{
 "cells": [
  {
   "cell_type": "code",
   "execution_count": 1,
   "metadata": {},
   "outputs": [],
   "source": [
    "import pandas as pd\n",
    "import numpy as np\n",
    "import matplotlib.pyplot as plt\n",
    "\n",
    "from sklearn.preprocessing import MinMaxScaler\n",
    "from sklearn.model_selection import KFold\n",
    "from sklearn.neural_network import MLPClassifier\n",
    "from sklearn.model_selection import train_test_split\n",
    "from sklearn.metrics import confusion_matrix, classification_report, f1_score\n",
    "\n",
    "import seaborn as sns"
   ]
  },
  {
   "cell_type": "markdown",
   "metadata": {},
   "source": [
    "# Juntandos os dados em um único DataFrame"
   ]
  },
  {
   "cell_type": "code",
   "execution_count": 3,
   "metadata": {},
   "outputs": [],
   "source": [
    "def get_data_gathered(cities: list[str] = ['cleveland'], save: bool = False) -> pd.DataFrame:\n",
    "    columns = [\n",
    "        'age', 'sex', 'cp', 'trestbps', 'chol', 'fbs', 'restecg',\n",
    "        'thalach', 'exang', 'oldpeak', 'slope', 'ca', 'thal', 'num'\n",
    "    ]\n",
    "\n",
    "    def load_data(file_path: str) -> pd.DataFrame:\n",
    "        df = pd.read_csv(file_path, header=None, names=columns, na_values='?')\n",
    "        return df\n",
    "\n",
    "    files: list[str] = [f'./data/processed.{city}.data' for city in cities]\n",
    "\n",
    "    result_df = pd.concat([load_data(file)\n",
    "                          for file in files], ignore_index=True)\n",
    "    if save:\n",
    "\n",
    "        output_path = f'./data/heart_disease_{\"_\".join(cities)}.csv'\n",
    "        result_df.to_csv(output_path, index=False)\n",
    "        print(f\"Arquivo CSV criado com sucesso em: {output_path}\")\n",
    "\n",
    "    return result_df"
   ]
  },
  {
   "cell_type": "markdown",
   "metadata": {},
   "source": [
    "# Pré processamento dos dados\n",
    "\n",
    "Foram implementadas 2 alternativas para teste, uma em que os valores nulos são preenchidos, e outra em que os valores nulos são removidos."
   ]
  },
  {
   "cell_type": "code",
   "execution_count": 4,
   "metadata": {},
   "outputs": [],
   "source": [
    "def deal_with_nil(original_df: pd.DataFrame, drop_nulls: bool = True) -> pd.DataFrame:\n",
    "    if drop_nulls:\n",
    "        return original_df.dropna()\n",
    "\n",
    "    df = original_df.copy()\n",
    "    # Substitua lacunas para frente do valor válido anterior em: 'trestbps'\n",
    "    df = df.fillna({'trestbps': df['trestbps'].ffill()})\n",
    "    # Substitua os valores ausentes pela média de cada coluna em: 'chol'\n",
    "    df = df.fillna({'chol': df['chol'].mean()})\n",
    "    # Substitua as lacunas do próximo valor válido em: 'fbs'\n",
    "    df = df.fillna({'fbs': df['fbs'].bfill()})\n",
    "    # Substitua os valores ausentes pela média de cada coluna em: 'thalach'\n",
    "    df = df.fillna({'thalach': df['thalach'].mean()})\n",
    "    # Substitua os valores ausentes pelo modo de cada coluna em: 'restecg'\n",
    "    df = df.fillna({'restecg': df['restecg'].mode()[0]})\n",
    "    # Substitua os valores ausentes pelo modo de cada coluna em: 'exang'\n",
    "    df = df.fillna({'exang': df['exang'].mode()[0]})\n",
    "    # Remover coluna: 'ca' (muitos nulls)\n",
    "    df = df.drop(columns=['ca'])\n",
    "    # Substitua lacunas para frente do valor válido anterior em: 'slope'\n",
    "    df = df.fillna({'slope': df['slope'].ffill()})\n",
    "    # Substitua os valores ausentes pelo modo de cada coluna em: 'thal'\n",
    "    df = df.fillna({'thal': df['thal'].mode()[0]})\n",
    "    # Substitua lacunas para frente do valor válido anterior em: 'oldpeak'\n",
    "    df = df.fillna({'oldpeak': df['oldpeak'].ffill()})\n",
    "    return df"
   ]
  },
  {
   "cell_type": "markdown",
   "metadata": {},
   "source": [
    "Para a normalização foi usado o MinMaxScaler, que transforma os dados para que fiquem entre 0 e 1. Transformando a coluna objetivo em 0 e 1. Onde 0 é saudável e 1 é doente, no banco de dados original os valores são [0..4], onde qualquer número >0 é não saudável."
   ]
  },
  {
   "cell_type": "code",
   "execution_count": 5,
   "metadata": {},
   "outputs": [],
   "source": [
    "def normalize(original_df: pd.DataFrame) -> pd.DataFrame:\n",
    "    df_clean = original_df.copy()\n",
    "    print(\"Quantidade de classes nos dados limpos:\")\n",
    "    print(df_clean['num'].value_counts())\n",
    "\n",
    "    df_clean['num'] = df_clean['num'].apply(\n",
    "        lambda x: 0 if x == 0 else 1)\n",
    "\n",
    "    scaler = MinMaxScaler()\n",
    "    df_clean_normalized = df_clean.copy()\n",
    "    df_clean_normalized = pd.DataFrame(scaler.fit_transform(\n",
    "        df_clean_normalized), columns=df_clean_normalized.columns)\n",
    "\n",
    "    df_clean_normalized.describe()\n",
    "\n",
    "    df_clean_normalized['num'] = df_clean_normalized['num'].astype(bool)\n",
    "\n",
    "    print(\"Quantidade de classes nos dados normalizados:\")\n",
    "    print(df_clean_normalized['num'].value_counts())\n",
    "\n",
    "    return df_clean_normalized"
   ]
  },
  {
   "cell_type": "code",
   "execution_count": null,
   "metadata": {},
   "outputs": [
    {
     "name": "stdout",
     "output_type": "stream",
     "text": [
      "Quantidade de classes nos dados limpos:\n",
      "num\n",
      "0    160\n",
      "1     54\n",
      "2     35\n",
      "3     35\n",
      "4     13\n",
      "Name: count, dtype: int64\n",
      "Quantidade de classes nos dados normalizados:\n",
      "num\n",
      "False    160\n",
      "True     137\n",
      "Name: count, dtype: int64\n"
     ]
    }
   ],
   "source": [
    "df: pd.DataFrame = normalize(deal_with_nil(get_data_gathered()))\n",
    "\n",
    "df.head()"
   ]
  },
  {
   "cell_type": "markdown",
   "metadata": {},
   "source": [
    "# Replicando a arquitetura do artigo\n",
    "\n",
    "| Parâmetro                | Valor       |\n",
    "|--------------------------|-------------|\n",
    "| Neurônios na camada de entrada | 12          |\n",
    "| Neurônios na camada de saída   | 2           |\n",
    "| Camadas ocultas               | 1            |\n",
    "| Neurônios na camada oculta    | 6            |\n",
    "| Épocas                        | 2000         |\n",
    "| Taxa de aprendizado           | 0.32         |\n",
    "| Momento                       | 0.72         |\n",
    "| Performance                   | 0.199        |"
   ]
  },
  {
   "cell_type": "code",
   "execution_count": 7,
   "metadata": {},
   "outputs": [],
   "source": [
    "X = df.drop('num', axis=1)\n",
    "y = df['num']"
   ]
  },
  {
   "cell_type": "markdown",
   "metadata": {},
   "source": [
    "## Dividindo em treino e teste 60:40\n",
    "Foi feito assim como no artigo"
   ]
  },
  {
   "cell_type": "code",
   "execution_count": 15,
   "metadata": {},
   "outputs": [
    {
     "name": "stdout",
     "output_type": "stream",
     "text": [
      "Tamanho do conjunto de treino: 178\n",
      "Tamanho do conjunto de teste: 119\n"
     ]
    }
   ],
   "source": [
    "np.random.seed(42)\n",
    "model_60_40 = MLPClassifier(hidden_layer_sizes=(\n",
    "    6,), max_iter=2000, learning_rate_init=0.32, momentum=0.72, activation='logistic')\n",
    "\n",
    "# Divide o dataset em 60% treino e 40% teste\n",
    "X_train, X_test, y_train, y_test = train_test_split(\n",
    "    X, y, test_size=0.4, random_state=42)\n",
    "\n",
    "# Exibe os tamanhos dos conjuntos de treino e teste\n",
    "print(f'Tamanho do conjunto de treino: {X_train.shape[0]}')\n",
    "print(f'Tamanho do conjunto de teste: {X_test.shape[0]}')"
   ]
  },
  {
   "cell_type": "markdown",
   "metadata": {},
   "source": [
    "## Treinamento do modelo"
   ]
  },
  {
   "cell_type": "code",
   "execution_count": 16,
   "metadata": {},
   "outputs": [
    {
     "name": "stdout",
     "output_type": "stream",
     "text": [
      "Matriz de Confusão:\n",
      "[[48 12]\n",
      " [20 39]]\n",
      "Relatório de Classificação:\n",
      "              precision    recall  f1-score   support\n",
      "\n",
      "       False       0.71      0.80      0.75        60\n",
      "        True       0.76      0.66      0.71        59\n",
      "\n",
      "    accuracy                           0.73       119\n",
      "   macro avg       0.74      0.73      0.73       119\n",
      "weighted avg       0.74      0.73      0.73       119\n",
      "\n"
     ]
    },
    {
     "data": {
      "image/png": "[encoded data removed]",
      "text/plain": [
       "<Figure size 1200x600 with 2 Axes>"
      ]
     },
     "metadata": {},
     "output_type": "display_data"
    },
    {
     "name": "stdout",
     "output_type": "stream",
     "text": [
      "F1-Score: 0.7090909090909091\n",
      "Score: 0.7310924369747899\n"
     ]
    }
   ],
   "source": [
    "model_60_40.fit(X_train, y_train)\n",
    "score = model_60_40.score(X_test, y_test)\n",
    "\n",
    "y_pred = model_60_40.predict(X_test)\n",
    "\n",
    "conf_matrix = confusion_matrix(y_test, y_pred)\n",
    "print('Matriz de Confusão:')\n",
    "print(conf_matrix)\n",
    "\n",
    "cr = classification_report(y_test, y_pred)\n",
    "print('Relatório de Classificação:')\n",
    "print(cr)\n",
    "\n",
    "\n",
    "def plot_classification_report_with_support(report):\n",
    "    # Exclude 'accuracy', 'macro avg', 'weighted avg'\n",
    "    labels = list(report.keys())[:-3]\n",
    "    metrics = ['precision', 'recall', 'f1-score', 'support']\n",
    "    data = np.array([[report[label][metric]\n",
    "                    for metric in metrics] for label in labels])\n",
    "    _, ax = plt.subplots(figsize=(12, 6))\n",
    "    cax = ax.matshow(data, cmap='coolwarm')\n",
    "    plt.xticks(range(len(metrics)), metrics)\n",
    "    plt.yticks(range(len(labels)), labels)\n",
    "    plt.colorbar(cax)\n",
    "    for (i, j), val in np.ndenumerate(data):\n",
    "        ax.text(j, i, f'{val:.2f}', ha='center', va='center', color='white')\n",
    "    plt.xlabel('Metrics')\n",
    "    plt.ylabel('Classes')\n",
    "    plt.title('Classification Report with Support')\n",
    "    plt.show()\n",
    "\n",
    "\n",
    "# Plotting the classification report with support\n",
    "plot_classification_report_with_support(\n",
    "    classification_report(y_test, y_pred, output_dict=True)\n",
    ")\n",
    "print(f'F1-Score: {f1_score(y_test, y_pred)}')\n",
    "print(f\"Score: {score}\")"
   ]
  },
  {
   "cell_type": "markdown",
   "metadata": {},
   "source": [
    "## Plotando a matriz de confusão"
   ]
  },
  {
   "cell_type": "code",
   "execution_count": 17,
   "metadata": {},
   "outputs": [
    {
     "data": {
      "image/png": "[encoded data removed]",
      "text/plain": [
       "<Figure size 1000x700 with 2 Axes>"
      ]
     },
     "metadata": {},
     "output_type": "display_data"
    }
   ],
   "source": [
    "plt.figure(figsize=(10, 7))\n",
    "sns.heatmap(conf_matrix, annot=True, fmt='d', cmap='Blues')\n",
    "plt.xlabel('Predicted')\n",
    "plt.ylabel('Actual')\n",
    "plt.title('Confusion Matrix')\n",
    "plt.show()"
   ]
  },
  {
   "cell_type": "markdown",
   "metadata": {},
   "source": [
    "# Primeira modificação: K Fold\n",
    "\n",
    "Nesta modificação iremos usar **kfold** com [2..20] splits ao invés de dividir em 60:40"
   ]
  },
  {
   "cell_type": "code",
   "execution_count": 18,
   "metadata": {},
   "outputs": [
    {
     "name": "stderr",
     "output_type": "stream",
     "text": [
      "/home/yurih/ufu/ic/heart-disease-ann/.venv/lib/python3.10/site-packages/sklearn/neural_network/_multilayer_perceptron.py:697: UserWarning: Training interrupted by user.\n",
      "  warnings.warn(\"Training interrupted by user.\")\n"
     ]
    }
   ],
   "source": [
    "all_results = {}\n",
    "experiments = 100\n",
    "for splits in range(2, 21):\n",
    "    split_results = []\n",
    "    for seed in range(experiments+1):\n",
    "        np.random.seed(seed)\n",
    "        kf = KFold(n_splits=splits, shuffle=True)\n",
    "\n",
    "        model_kfold = MLPClassifier(hidden_layer_sizes=(\n",
    "            6,), max_iter=2000, learning_rate_init=0.32, momentum=0.72, activation='logistic')\n",
    "\n",
    "        count = 0\n",
    "        scores = []\n",
    "        for train_index, test_index in kf.split(X):\n",
    "            X_train, X_test = X.iloc[train_index], X.iloc[test_index]\n",
    "            y_train, y_test = y.iloc[train_index], y.iloc[test_index]\n",
    "\n",
    "            count += 1\n",
    "            model_kfold.fit(X_train, y_train)\n",
    "            score = model_kfold.score(X_test, y_test)\n",
    "            scores.append(score)\n",
    "        \n",
    "        split_results.append(np.mean(scores))\n",
    "    all_results[splits] = np.mean(split_results)\n",
    "\n",
    "# Descobre melhor quantidade de splits e score médio\n",
    "best_splits = max(all_results, key=all_results.get)\n",
    "best_score = all_results[best_splits]\n",
    "\n",
    "print(f'Melhor quantidade de splits: {best_splits}')\n",
    "print(f'Score médio: {best_score}')"
   ]
  },
  {
   "cell_type": "markdown",
   "metadata": {},
   "source": [
    "## Segunda modificação: Épocas\n",
    "\n",
    "Aqui variamos o número de épocas da arquitetura original.\n",
    "\n",
    "O valor incial utilizado foi 400, pois ao utilizar 200 a biblioca exibia avisos que não estava convergindo."
   ]
  },
  {
   "cell_type": "code",
   "execution_count": null,
   "metadata": {},
   "outputs": [
    {
     "name": "stdout",
     "output_type": "stream",
     "text": [
      "(1800, np.float64(0.816579963081054))\n"
     ]
    }
   ],
   "source": [
    "# Variar número de épocas iterando de 400 em 400 até 3000\n",
    "num_experiments = 100\n",
    "epochs_range = range(400, 3000, 200)\n",
    "all_results = {}\n",
    "for epochs in epochs_range:\n",
    "    epoch_results = []\n",
    "    for seed in range(num_experiments + 1):\n",
    "        np.random.seed(seed)\n",
    "        model_60_40 = MLPClassifier(hidden_layer_sizes=(\n",
    "            6,), max_iter=epochs, learning_rate_init=0.32, momentum=0.72, activation='logistic')\n",
    "        \n",
    "        model_60_40.fit(X_train, y_train)\n",
    "        score = model_60_40.score(X_test, y_test)\n",
    "\n",
    "        epoch_results.append(score)\n",
    "    \n",
    "    # Salva a média dos resultados de cada época\n",
    "    all_results[epochs] = np.mean(epoch_results)\n",
    "\n",
    "# Descobrir o melhor número de épocas\n",
    "best_epoch = max(all_results, key=all_results.get)\n",
    "best_score = all_results[best_epoch]\n",
    "\n",
    "print(f'Melhor quantidade de épocas: {best_splits}')\n",
    "print(f'Score médio: {best_score}')\n"
   ]
  },
  {
   "cell_type": "markdown",
   "metadata": {},
   "source": [
    "## Terceira Modificação: Função de Ativação\n",
    "\n",
    "Aqui testamos a arquitetura original com outras funções de ativação (relu, identity, tanh)."
   ]
  },
  {
   "cell_type": "code",
   "execution_count": 81,
   "metadata": {},
   "outputs": [
    {
     "name": "stdout",
     "output_type": "stream",
     "text": [
      "('identity', 0.864406779661017)\n"
     ]
    }
   ],
   "source": [
    "activation_functions = ['relu', 'identity', 'tanh']\n",
    "experiments = 100\n",
    "all_results = {}\n",
    "for function in activation_functions:\n",
    "    function_results = []\n",
    "    for seed in range(experiments + 1):\n",
    "        np.random.seed(seed)\n",
    "        model_60_40 = MLPClassifier(hidden_layer_sizes=(\n",
    "            6,), max_iter=2000, learning_rate_init=0.32, momentum=0.72, activation=function)\n",
    "        \n",
    "        model_60_40.fit(X_train, y_train)\n",
    "        score = model_60_40.score(X_test, y_test)\n",
    "\n",
    "        function_results.append(np.mean(score))\n",
    "    all_results[function] = np.mean(function_results)\n",
    "\n",
    "# Descobrir a melhor função de ativação\n",
    "best_function = max(all_results, key=all_results.get)\n",
    "best_score = all_results[best_function]\n",
    "\n",
    "print(f'Melhor função de ativação: {best_splits}')\n",
    "print(f'Score médio: {best_score}')"
   ]
  },
  {
   "cell_type": "markdown",
   "metadata": {},
   "source": [
    "## Quarta Moficação: Número de Neurônios"
   ]
  }
 ],
 "metadata": {
  "kernelspec": {
   "display_name": "Python 3",
   "language": "python",
   "name": "python3"
  },
  "language_info": {
   "codemirror_mode": {
    "name": "ipython",
    "version": 3
   },
   "file_extension": ".py",
   "mimetype": "text/x-python",
   "name": "python",
   "nbconvert_exporter": "python",
   "pygments_lexer": "ipython3",
   "version": "3.10.12"
  }
 },
 "nbformat": 4,
 "nbformat_minor": 2
}
