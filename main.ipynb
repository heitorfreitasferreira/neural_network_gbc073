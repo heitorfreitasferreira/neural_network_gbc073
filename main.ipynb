{
 "cells": [
  {
   "cell_type": "code",
   "execution_count": 1,
   "metadata": {},
   "outputs": [],
   "source": [
    "import pandas as pd\n",
    "import numpy as np\n",
    "import matplotlib.pyplot as plt\n",
    "\n",
    "from sklearn.preprocessing import MinMaxScaler\n",
    "from sklearn.model_selection import KFold\n",
    "from sklearn.neural_network import MLPClassifier\n",
    "from sklearn.model_selection import train_test_split\n",
    "from sklearn.metrics import confusion_matrix, classification_report, f1_score\n",
    "\n",
    "import seaborn as sns"
   ]
  },
  {
   "cell_type": "markdown",
   "metadata": {},
   "source": [
    "# Juntandos os dados em um único DataFrame"
   ]
  },
  {
   "cell_type": "code",
   "execution_count": 2,
   "metadata": {},
   "outputs": [],
   "source": [
    "def get_data_gathered(cities: list[str] = ['cleveland'], save: bool = False) -> pd.DataFrame:\n",
    "    columns = [\n",
    "        'age', 'sex', 'cp', 'trestbps', 'chol', 'fbs', 'restecg',\n",
    "        'thalach', 'exang', 'oldpeak', 'slope', 'ca', 'thal', 'num'\n",
    "    ]\n",
    "\n",
    "    def load_data(file_path: str) -> pd.DataFrame:\n",
    "        df = pd.read_csv(file_path, header=None, names=columns, na_values='?')\n",
    "        return df\n",
    "\n",
    "    files: list[str] = [f'./data/processed.{city}.data' for city in cities]\n",
    "\n",
    "    result_df = pd.concat([load_data(file)\n",
    "                          for file in files], ignore_index=True)\n",
    "    if save:\n",
    "\n",
    "        output_path = f'./data/heart_disease_{\"_\".join(cities)}.csv'\n",
    "        result_df.to_csv(output_path, index=False)\n",
    "        print(f\"Arquivo CSV criado com sucesso em: {output_path}\")\n",
    "\n",
    "    return result_df"
   ]
  },
  {
   "cell_type": "markdown",
   "metadata": {},
   "source": [
    "# Pré processamento dos dados\n",
    "\n",
    "Foram implementadas 2 alternativas para teste, uma em que os valores nulos são preenchidos, e outra em que os valores nulos são removidos."
   ]
  },
  {
   "cell_type": "code",
   "execution_count": 3,
   "metadata": {},
   "outputs": [],
   "source": [
    "def deal_with_nil(original_df: pd.DataFrame, drop_nulls: bool = True) -> pd.DataFrame:\n",
    "    if drop_nulls:\n",
    "        return original_df.dropna()\n",
    "\n",
    "    df = original_df.copy()\n",
    "    # Substitua lacunas para frente do valor válido anterior em: 'trestbps'\n",
    "    df = df.fillna({'trestbps': df['trestbps'].ffill()})\n",
    "    # Substitua os valores ausentes pela média de cada coluna em: 'chol'\n",
    "    df = df.fillna({'chol': df['chol'].mean()})\n",
    "    # Substitua as lacunas do próximo valor válido em: 'fbs'\n",
    "    df = df.fillna({'fbs': df['fbs'].bfill()})\n",
    "    # Substitua os valores ausentes pela média de cada coluna em: 'thalach'\n",
    "    df = df.fillna({'thalach': df['thalach'].mean()})\n",
    "    # Substitua os valores ausentes pelo modo de cada coluna em: 'restecg'\n",
    "    df = df.fillna({'restecg': df['restecg'].mode()[0]})\n",
    "    # Substitua os valores ausentes pelo modo de cada coluna em: 'exang'\n",
    "    df = df.fillna({'exang': df['exang'].mode()[0]})\n",
    "    # Remover coluna: 'ca' (muitos nulls)\n",
    "    df = df.drop(columns=['ca'])\n",
    "    # Substitua lacunas para frente do valor válido anterior em: 'slope'\n",
    "    df = df.fillna({'slope': df['slope'].ffill()})\n",
    "    # Substitua os valores ausentes pelo modo de cada coluna em: 'thal'\n",
    "    df = df.fillna({'thal': df['thal'].mode()[0]})\n",
    "    # Substitua lacunas para frente do valor válido anterior em: 'oldpeak'\n",
    "    df = df.fillna({'oldpeak': df['oldpeak'].ffill()})\n",
    "    return df"
   ]
  },
  {
   "cell_type": "markdown",
   "metadata": {},
   "source": [
    "Para a normalização foi usado o MinMaxScaler, que transforma os dados para que fiquem entre 0 e 1. Transformando a coluna objetivo em 0 e 1. Onde 0 é saudável e 1 é doente, no banco de dados original os valores são [0..4], onde qualquer número >0 é não saudável."
   ]
  },
  {
   "cell_type": "code",
   "execution_count": 4,
   "metadata": {},
   "outputs": [],
   "source": [
    "def normalize(original_df: pd.DataFrame) -> pd.DataFrame:\n",
    "    df_clean = original_df.copy()\n",
    "    print(\"Quantidade de classes nos dados limpos:\")\n",
    "    print(df_clean['num'].value_counts())\n",
    "\n",
    "    df_clean['num'] = df_clean['num'].apply(\n",
    "        lambda x: 0 if x == 0 else 1)\n",
    "\n",
    "    scaler = MinMaxScaler()\n",
    "    df_clean_normalized = df_clean.copy()\n",
    "    df_clean_normalized = pd.DataFrame(scaler.fit_transform(\n",
    "        df_clean_normalized), columns=df_clean_normalized.columns)\n",
    "\n",
    "    df_clean_normalized.describe()\n",
    "\n",
    "    df_clean_normalized['num'] = df_clean_normalized['num'].astype(bool)\n",
    "\n",
    "    print(\"Quantidade de classes nos dados normalizados:\")\n",
    "    print(df_clean_normalized['num'].value_counts())\n",
    "\n",
    "    return df_clean_normalized"
   ]
  },
  {
   "cell_type": "code",
   "execution_count": 5,
   "metadata": {},
   "outputs": [
    {
     "name": "stdout",
     "output_type": "stream",
     "text": [
      "Quantidade de classes nos dados limpos:\n",
      "num\n",
      "0    160\n",
      "1     54\n",
      "2     35\n",
      "3     35\n",
      "4     13\n",
      "Name: count, dtype: int64\n",
      "Quantidade de classes nos dados normalizados:\n",
      "num\n",
      "False    160\n",
      "True     137\n",
      "Name: count, dtype: int64\n"
     ]
    }
   ],
   "source": [
    "df: pd.DataFrame = normalize(deal_with_nil(get_data_gathered()))"
   ]
  },
  {
   "cell_type": "markdown",
   "metadata": {},
   "source": [
    "# Replicando a arquitetura do artigo"
   ]
  },
  {
   "cell_type": "code",
   "execution_count": 6,
   "metadata": {},
   "outputs": [],
   "source": [
    "X = df.drop('num', axis=1)\n",
    "y = df['num']"
   ]
  },
  {
   "cell_type": "markdown",
   "metadata": {},
   "source": [
    "## Dividindo em treino e teste 60:40\n",
    "Foi feito assim como no artigo"
   ]
  },
  {
   "cell_type": "code",
   "execution_count": 7,
   "metadata": {},
   "outputs": [
    {
     "name": "stdout",
     "output_type": "stream",
     "text": [
      "Tamanho do conjunto de treino: 178\n",
      "Tamanho do conjunto de teste: 119\n"
     ]
    }
   ],
   "source": [
    "model_60_40 = MLPClassifier(hidden_layer_sizes=(\n",
    "    6,), max_iter=2000, learning_rate_init=0.32, momentum=0.72, activation='logistic')\n",
    "\n",
    "# Divide o dataset em 60% treino e 40% teste\n",
    "X_train, X_test, y_train, y_test = train_test_split(\n",
    "    X, y, test_size=0.4, random_state=42)\n",
    "\n",
    "# Exibe os tamanhos dos conjuntos de treino e teste\n",
    "print(f'Tamanho do conjunto de treino: {X_train.shape[0]}')\n",
    "print(f'Tamanho do conjunto de teste: {X_test.shape[0]}')"
   ]
  },
  {
   "cell_type": "markdown",
   "metadata": {},
   "source": [
    "## Treinamento do modelo"
   ]
  },
  {
   "cell_type": "code",
   "execution_count": 17,
   "metadata": {},
   "outputs": [
    {
     "name": "stdout",
     "output_type": "stream",
     "text": [
      "Matriz de Confusão:\n",
      "[[45 15]\n",
      " [16 43]]\n",
      "Relatório de Classificação:\n",
      "              precision    recall  f1-score   support\n",
      "\n",
      "       False       0.74      0.75      0.74        60\n",
      "        True       0.74      0.73      0.74        59\n",
      "\n",
      "    accuracy                           0.74       119\n",
      "   macro avg       0.74      0.74      0.74       119\n",
      "weighted avg       0.74      0.74      0.74       119\n",
      "\n"
     ]
    },
    {
     "data": {
      "image/png": "[encoded data removed]",
      "text/plain": [
       "<Figure size 1200x600 with 2 Axes>"
      ]
     },
     "metadata": {},
     "output_type": "display_data"
    },
    {
     "name": "stdout",
     "output_type": "stream",
     "text": [
      "F1-Score: 0.7350427350427351\n",
      "Score: 0.7394957983193278\n"
     ]
    }
   ],
   "source": [
    "model_60_40.fit(X_train, y_train)\n",
    "score = model_60_40.score(X_test, y_test)\n",
    "\n",
    "y_pred = model_60_40.predict(X_test)\n",
    "\n",
    "conf_matrix = confusion_matrix(y_test, y_pred)\n",
    "print('Matriz de Confusão:')\n",
    "print(conf_matrix)\n",
    "\n",
    "cr = classification_report(y_test, y_pred)\n",
    "print('Relatório de Classificação:')\n",
    "print(cr)\n",
    "\n",
    "\n",
    "def plot_classification_report_with_support(report):\n",
    "    # Exclude 'accuracy', 'macro avg', 'weighted avg'\n",
    "    labels = list(report.keys())[:-3]\n",
    "    metrics = ['precision', 'recall', 'f1-score', 'support']\n",
    "    data = np.array([[report[label][metric]\n",
    "                    for metric in metrics] for label in labels])\n",
    "    fig, ax = plt.subplots(figsize=(12, 6))\n",
    "    cax = ax.matshow(data, cmap='coolwarm')\n",
    "    plt.xticks(range(len(metrics)), metrics)\n",
    "    plt.yticks(range(len(labels)), labels)\n",
    "    plt.colorbar(cax)\n",
    "    for (i, j), val in np.ndenumerate(data):\n",
    "        ax.text(j, i, f'{val:.2f}', ha='center', va='center', color='white')\n",
    "    plt.xlabel('Metrics')\n",
    "    plt.ylabel('Classes')\n",
    "    plt.title('Classification Report with Support')\n",
    "    plt.show()\n",
    "\n",
    "\n",
    "# Plotting the classification report with support\n",
    "plot_classification_report_with_support(\n",
    "    classification_report(y_test, y_pred, output_dict=True)\n",
    ")\n",
    "print(f'F1-Score: {f1_score(y_test, y_pred)}')\n",
    "print(f\"Score: {score}\")"
   ]
  },
  {
   "cell_type": "markdown",
   "metadata": {},
   "source": [
    "## Plotando a matriz de confusão"
   ]
  },
  {
   "cell_type": "code",
   "execution_count": 18,
   "metadata": {},
   "outputs": [
    {
     "data": {
      "image/png": "[encoded data removed]",
      "text/plain": [
       "<Figure size 1000x700 with 2 Axes>"
      ]
     },
     "metadata": {},
     "output_type": "display_data"
    }
   ],
   "source": [
    "plt.figure(figsize=(10, 7))\n",
    "sns.heatmap(conf_matrix, annot=True, fmt='d', cmap='Blues')\n",
    "plt.xlabel('Predicted')\n",
    "plt.ylabel('Actual')\n",
    "plt.title('Confusion Matrix')\n",
    "plt.show()"
   ]
  },
  {
   "cell_type": "markdown",
   "metadata": {},
   "source": [
    "# Primeira modificação\n",
    "\n",
    "Nesta modificação iremos usar **kfold** com [2..20] splits ao invés de dividir em 60:40"
   ]
  },
  {
   "cell_type": "code",
   "execution_count": 19,
   "metadata": {},
   "outputs": [],
   "source": [
    "results = []\n",
    "for splits in range(2, 21):\n",
    "    splits = 5\n",
    "    kf = KFold(n_splits=splits, shuffle=True)\n",
    "\n",
    "    model_kfold = MLPClassifier(hidden_layer_sizes=(\n",
    "        6,), max_iter=2000, learning_rate_init=0.32, momentum=0.72, activation='logistic')\n",
    "\n",
    "    count = 0\n",
    "    scores = []\n",
    "    for train_index, test_index in kf.split(X):\n",
    "        X_train, X_test = X.iloc[train_index], X.iloc[test_index]\n",
    "        y_train, y_test = y.iloc[train_index], y.iloc[test_index]\n",
    "\n",
    "        count += 1\n",
    "        model_kfold.fit(X_train, y_train)\n",
    "        score = model_kfold.score(X_test, y_test)\n",
    "        scores.append(score)\n",
    "\n",
    "    results.append(np.mean(scores))"
   ]
  },
  {
   "cell_type": "code",
   "execution_count": 20,
   "metadata": {},
   "outputs": [
    {
     "name": "stdout",
     "output_type": "stream",
     "text": [
      "02:\t0.7677\n",
      "03:\t0.7608\n",
      "04:\t0.7980\n",
      "05:\t0.8115\n",
      "06:\t0.8046\n",
      "07:\t0.7846\n",
      "08:\t0.7644\n",
      "09:\t0.8012\n",
      "10:\t0.7746\n",
      "11:\t0.8047\n",
      "12:\t0.7912\n",
      "13:\t0.8154\n",
      "14:\t0.8215\n",
      "15:\t0.7913\n",
      "16:\t0.8046\n",
      "17:\t0.7876\n",
      "18:\t0.8279\n",
      "19:\t0.7844\n",
      "20:\t0.8044\n"
     ]
    }
   ],
   "source": [
    "for lr, scores in enumerate(results):\n",
    "    print(f'{lr+2:02}:\\t{scores:.4f}')"
   ]
  },
  {
   "cell_type": "code",
   "execution_count": 21,
   "metadata": {},
   "outputs": [
    {
     "name": "stdout",
     "output_type": "stream",
     "text": [
      "\n",
      "Melhor número de splits: 18\n",
      "Melhor score médio: 0.828\n"
     ]
    }
   ],
   "source": [
    "best_score = (0, 0)\n",
    "\n",
    "for lr, scores in enumerate(results):\n",
    "    if scores > best_score[1]:\n",
    "        best_score = (lr+2, np.mean(scores))\n",
    "\n",
    "print()\n",
    "print(f'Melhor número de splits: {best_score[0]}')\n",
    "print(f'Melhor score médio: {best_score[1]:.3f}')"
   ]
  },
  {
   "cell_type": "markdown",
   "metadata": {},
   "source": [
    "## Segunda modificação\n",
    "\n",
    "Pegando o melhor numero de splits e alterando o learning rate"
   ]
  },
  {
   "cell_type": "code",
   "execution_count": 22,
   "metadata": {},
   "outputs": [
    {
     "name": "stderr",
     "output_type": "stream",
     "text": [
      "/usr/lib/python3.12/site-packages/sklearn/neural_network/_multilayer_perceptron.py:690: ConvergenceWarning: Stochastic Optimizer: Maximum iterations (2000) reached and the optimization hasn't converged yet.\n",
      "  warnings.warn(\n",
      "/usr/lib/python3.12/site-packages/sklearn/neural_network/_multilayer_perceptron.py:690: ConvergenceWarning: Stochastic Optimizer: Maximum iterations (2000) reached and the optimization hasn't converged yet.\n",
      "  warnings.warn(\n",
      "/usr/lib/python3.12/site-packages/sklearn/neural_network/_multilayer_perceptron.py:690: ConvergenceWarning: Stochastic Optimizer: Maximum iterations (2000) reached and the optimization hasn't converged yet.\n",
      "  warnings.warn(\n",
      "/usr/lib/python3.12/site-packages/sklearn/neural_network/_multilayer_perceptron.py:690: ConvergenceWarning: Stochastic Optimizer: Maximum iterations (2000) reached and the optimization hasn't converged yet.\n",
      "  warnings.warn(\n",
      "/usr/lib/python3.12/site-packages/sklearn/neural_network/_multilayer_perceptron.py:690: ConvergenceWarning: Stochastic Optimizer: Maximum iterations (2000) reached and the optimization hasn't converged yet.\n",
      "  warnings.warn(\n",
      "/usr/lib/python3.12/site-packages/sklearn/neural_network/_multilayer_perceptron.py:690: ConvergenceWarning: Stochastic Optimizer: Maximum iterations (2000) reached and the optimization hasn't converged yet.\n",
      "  warnings.warn(\n",
      "/usr/lib/python3.12/site-packages/sklearn/neural_network/_multilayer_perceptron.py:690: ConvergenceWarning: Stochastic Optimizer: Maximum iterations (2000) reached and the optimization hasn't converged yet.\n",
      "  warnings.warn(\n",
      "/usr/lib/python3.12/site-packages/sklearn/neural_network/_multilayer_perceptron.py:690: ConvergenceWarning: Stochastic Optimizer: Maximum iterations (2000) reached and the optimization hasn't converged yet.\n",
      "  warnings.warn(\n",
      "/usr/lib/python3.12/site-packages/sklearn/neural_network/_multilayer_perceptron.py:690: ConvergenceWarning: Stochastic Optimizer: Maximum iterations (2000) reached and the optimization hasn't converged yet.\n",
      "  warnings.warn(\n",
      "/usr/lib/python3.12/site-packages/sklearn/neural_network/_multilayer_perceptron.py:690: ConvergenceWarning: Stochastic Optimizer: Maximum iterations (2000) reached and the optimization hasn't converged yet.\n",
      "  warnings.warn(\n",
      "/usr/lib/python3.12/site-packages/sklearn/neural_network/_multilayer_perceptron.py:690: ConvergenceWarning: Stochastic Optimizer: Maximum iterations (2000) reached and the optimization hasn't converged yet.\n",
      "  warnings.warn(\n"
     ]
    }
   ],
   "source": [
    "best_split_size = best_score[0]\n",
    "kf = KFold(n_splits=best_split_size, shuffle=True)\n",
    "results_lr: dict[float, np.float64] = {}\n",
    "for lr in range(1, 101):\n",
    "    model_kfold = MLPClassifier(hidden_layer_sizes=(\n",
    "        6,), max_iter=2000, learning_rate_init=lr/100, momentum=0.72, activation='logistic')\n",
    "\n",
    "    count = 0\n",
    "    scores = []\n",
    "    for train_index, test_index in kf.split(X):\n",
    "        X_train, X_test = X.iloc[train_index], X.iloc[test_index]\n",
    "        y_train, y_test = y.iloc[train_index], y.iloc[test_index]\n",
    "\n",
    "        count += 1\n",
    "        model_kfold.fit(X_train, y_train)\n",
    "        score = model_kfold.score(X_test, y_test)\n",
    "        scores.append(score)\n",
    "    results_lr[lr/100] = np.mean(scores)"
   ]
  },
  {
   "cell_type": "code",
   "execution_count": 23,
   "metadata": {},
   "outputs": [
    {
     "name": "stdout",
     "output_type": "stream",
     "text": [
      "0.01:\t0.8047\n",
      "0.02:\t0.7473\n",
      "0.03:\t0.7686\n",
      "0.04:\t0.7874\n",
      "0.05:\t0.7555\n",
      "0.06:\t0.7672\n",
      "0.07:\t0.7612\n",
      "0.08:\t0.7751\n",
      "0.09:\t0.7665\n",
      "0.1:\t0.7753\n",
      "0.11:\t0.7714\n",
      "0.12:\t0.8041\n",
      "0.13:\t0.7859\n",
      "0.14:\t0.7747\n",
      "0.15:\t0.7968\n",
      "0.16:\t0.7943\n",
      "0.17:\t0.7698\n",
      "0.18:\t0.7610\n",
      "0.19:\t0.7817\n",
      "0.2:\t0.7770\n",
      "0.21:\t0.7545\n",
      "0.22:\t0.7712\n",
      "0.23:\t0.7859\n",
      "0.24:\t0.7911\n",
      "0.25:\t0.7917\n",
      "0.26:\t0.7710\n",
      "0.27:\t0.7739\n",
      "0.28:\t0.7719\n",
      "0.29:\t0.7674\n",
      "0.3:\t0.7984\n",
      "0.31:\t0.8043\n",
      "0.32:\t0.7843\n",
      "0.33:\t0.7882\n",
      "0.34:\t0.7896\n",
      "0.35:\t0.8182\n",
      "0.36:\t0.7874\n",
      "0.37:\t0.8054\n",
      "0.38:\t0.7972\n",
      "0.39:\t0.8196\n",
      "0.4:\t0.8037\n",
      "0.41:\t0.7702\n",
      "0.42:\t0.7745\n",
      "0.43:\t0.7815\n",
      "0.44:\t0.7714\n",
      "0.45:\t0.7729\n",
      "0.46:\t0.7888\n",
      "0.47:\t0.7304\n",
      "0.48:\t0.6934\n",
      "0.49:\t0.7169\n",
      "0.5:\t0.7320\n",
      "0.51:\t0.7498\n",
      "0.52:\t0.7492\n",
      "0.53:\t0.7042\n",
      "0.54:\t0.7134\n",
      "0.55:\t0.6675\n",
      "0.56:\t0.7020\n",
      "0.57:\t0.7149\n",
      "0.58:\t0.7169\n",
      "0.59:\t0.6963\n",
      "0.6:\t0.6644\n",
      "0.61:\t0.6867\n",
      "0.62:\t0.6920\n",
      "0.63:\t0.6710\n",
      "0.64:\t0.7092\n",
      "0.65:\t0.7349\n",
      "0.66:\t0.6793\n",
      "0.67:\t0.7302\n",
      "0.68:\t0.6650\n",
      "0.69:\t0.6089\n",
      "0.7:\t0.7212\n",
      "0.71:\t0.6442\n",
      "0.72:\t0.6430\n",
      "0.73:\t0.6750\n",
      "0.74:\t0.5944\n",
      "0.75:\t0.6279\n",
      "0.76:\t0.5835\n",
      "0.77:\t0.6464\n",
      "0.78:\t0.7065\n",
      "0.79:\t0.5431\n",
      "0.8:\t0.6495\n",
      "0.81:\t0.6732\n",
      "0.82:\t0.6319\n",
      "0.83:\t0.5807\n",
      "0.84:\t0.6297\n",
      "0.85:\t0.6305\n",
      "0.86:\t0.6595\n",
      "0.87:\t0.6597\n",
      "0.88:\t0.6736\n",
      "0.89:\t0.6750\n",
      "0.9:\t0.6454\n",
      "0.91:\t0.6138\n",
      "0.92:\t0.6109\n",
      "0.93:\t0.6221\n",
      "0.94:\t0.6044\n",
      "0.95:\t0.6299\n",
      "0.96:\t0.6546\n",
      "0.97:\t0.6381\n",
      "0.98:\t0.6699\n",
      "0.99:\t0.5717\n",
      "1.0:\t0.6228\n"
     ]
    }
   ],
   "source": [
    "for lr, scores in results_lr.items():\n",
    "    print(f'{lr}:\\t{scores:.4f}')\n",
    "best_score = (0.0, 0)\n",
    "\n",
    "for lr, scores in results_lr.items():\n",
    "    if scores > best_score[1]:\n",
    "        best_score = (lr, np.mean(scores))"
   ]
  }
 ],
 "metadata": {
  "kernelspec": {
   "display_name": "Python 3",
   "language": "python",
   "name": "python3"
  },
  "language_info": {
   "codemirror_mode": {
    "name": "ipython",
    "version": 3
   },
   "file_extension": ".py",
   "mimetype": "text/x-python",
   "name": "python",
   "nbconvert_exporter": "python",
   "pygments_lexer": "ipython3",
   "version": "3.12.4"
  }
 },
 "nbformat": 4,
 "nbformat_minor": 2
}
