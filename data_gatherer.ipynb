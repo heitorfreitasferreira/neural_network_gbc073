{
 "cells": [
  {
   "cell_type": "code",
   "execution_count": 1,
   "metadata": {},
   "outputs": [],
   "source": [
    "import numpy as np\n",
    "import pandas as pd"
   ]
  },
  {
   "cell_type": "code",
   "execution_count": 2,
   "metadata": {},
   "outputs": [
    {
     "name": "stdout",
     "output_type": "stream",
     "text": [
      "Arquivo CSV criado com sucesso em: ./data/heart_disease_cleveland.csv\n"
     ]
    }
   ],
   "source": [
    "# Definindo os nomes das colunas conforme a ordem dada\n",
    "columns = [\n",
    "    'age', 'sex', 'cp', 'trestbps', 'chol', 'fbs', 'restecg',\n",
    "    'thalach', 'exang', 'oldpeak', 'slope', 'ca', 'thal', 'num'\n",
    "]\n",
    "\n",
    "# Função para ler os arquivos de dados e substituir valores ausentes\n",
    "\n",
    "\n",
    "def load_data(file_path):\n",
    "    # Lendo o arquivo e atribuindo os nomes das colunas\n",
    "    df = pd.read_csv(file_path, header=None, names=columns, na_values='?')\n",
    "    return df\n",
    "\n",
    "\n",
    "# Caminhos dos arquivos\n",
    "files = [\n",
    "    #'./data/processed.switzerland.data',\n",
    "    #'./data/processed.va.data',\n",
    "    './data/processed.cleveland.data',\n",
    "    #'./data/processed.hungarian.data'\n",
    "]\n",
    "\n",
    "# Carregando e combinando os dados de todos os arquivos\n",
    "dataframes = [load_data(file) for file in files]\n",
    "combined_df = pd.concat(dataframes, ignore_index=True)\n",
    "\n",
    "# Salvando o DataFrame em um arquivo CSV\n",
    "output_path = './data/heart_disease_cleveland.csv'\n",
    "combined_df.to_csv(output_path, index=False)\n",
    "\n",
    "print(f\"Arquivo CSV criado com sucesso em: {output_path}\")"
   ]
  }
 ],
 "metadata": {
  "kernelspec": {
   "display_name": "Python 3",
   "language": "python",
   "name": "python3"
  },
  "language_info": {
   "codemirror_mode": {
    "name": "ipython",
    "version": 3
   },
   "file_extension": ".py",
   "mimetype": "text/x-python",
   "name": "python",
   "nbconvert_exporter": "python",
   "pygments_lexer": "ipython3",
   "version": "3.10.12"
  }
 },
 "nbformat": 4,
 "nbformat_minor": 2
}
