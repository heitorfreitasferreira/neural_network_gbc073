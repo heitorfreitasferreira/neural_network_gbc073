{
 "cells": [
  {
   "cell_type": "code",
   "execution_count": 25,
   "metadata": {},
   "outputs": [],
   "source": [
    "from sklearn.model_selection import KFold\n",
    "from sklearn.neural_network import MLPClassifier\n",
    "from sklearn.model_selection import train_test_split\n",
    "from sklearn.metrics import confusion_matrix, classification_report, f1_score\n",
    "import pandas as pd "
   ]
  },
  {
   "cell_type": "code",
   "execution_count": 26,
   "metadata": {},
   "outputs": [],
   "source": [
    "# Carrega dataset pré-processado\n",
    "df = pd.read_csv('./data/heart_disease_clean_normalized.csv')\n",
    "\n",
    "# Separa features e num (alvo)\n",
    "X = df.drop('num', axis=1)\n",
    "y = df['num']\n",
    "    "
   ]
  },
  {
   "cell_type": "code",
   "execution_count": 27,
   "metadata": {},
   "outputs": [
    {
     "name": "stdout",
     "output_type": "stream",
     "text": [
      "Tamanho do conjunto de treino: 178\n",
      "Tamanho do conjunto de teste: 119\n",
      "Acurácia: 0.8319327731092437\n",
      "Matriz de Confusão:\n",
      "[[53  7]\n",
      " [13 46]]\n",
      "Relatório de Classificação:\n",
      "              precision    recall  f1-score   support\n",
      "\n",
      "       False       0.80      0.88      0.84        60\n",
      "        True       0.87      0.78      0.82        59\n",
      "\n",
      "    accuracy                           0.83       119\n",
      "   macro avg       0.84      0.83      0.83       119\n",
      "weighted avg       0.84      0.83      0.83       119\n",
      "\n",
      "F1 Score: 0.8214285714285714\n"
     ]
    }
   ],
   "source": [
    "model_60_40 = MLPClassifier(hidden_layer_sizes=(6,), max_iter=2000, learning_rate_init=0.32, momentum=0.72)\n",
    "\n",
    "# Divide o dataset em 60% treino e 40% teste\n",
    "X_train, X_test, y_train, y_test = train_test_split(X, y, test_size=0.4, random_state=42)\n",
    "\n",
    "# Exibe os tamanhos dos conjuntos de treino e teste\n",
    "print(f'Tamanho do conjunto de treino: {X_train.shape[0]}')\n",
    "print(f'Tamanho do conjunto de teste: {X_test.shape[0]}')\n",
    "\n",
    "# Treina o modelo\n",
    "model_60_40.fit(X_train, y_train)\n",
    "\n",
    "# Avalia o modelo\n",
    "score = model_60_40.score(X_test, y_test)\n",
    "print(f'Acurácia: {score}')\n",
    "\n",
    "# Predizendo valores\n",
    "y_pred = model_60_40.predict(X_test)\n",
    "\n",
    "# Matriz de confusão\n",
    "cm = confusion_matrix(y_test, y_pred)\n",
    "print('Matriz de Confusão:')\n",
    "print(cm)\n",
    "\n",
    "# Relatório de classificação\n",
    "cr = classification_report(y_test, y_pred)\n",
    "print('Relatório de Classificação:')\n",
    "print(cr)\n",
    "\n",
    "# F1 Score\n",
    "f1 = f1_score(y_test, y_pred)\n",
    "print(f'F1 Score: {f1}')"
   ]
  },
  {
   "cell_type": "code",
   "execution_count": 28,
   "metadata": {},
   "outputs": [
    {
     "name": "stdout",
     "output_type": "stream",
     "text": [
      "Treinamento da rede utilizando KFold com 5 folds\n",
      "Treinando modelo... Fold numero: 1\n",
      "Score: 0.8\n",
      "Treinando modelo... Fold numero: 2\n",
      "Score: 0.7166666666666667\n",
      "Treinando modelo... Fold numero: 3\n",
      "Score: 0.5423728813559322\n",
      "Treinando modelo... Fold numero: 4\n",
      "Score: 0.864406779661017\n",
      "Treinando modelo... Fold numero: 5\n",
      "Score: 0.847457627118644\n"
     ]
    }
   ],
   "source": [
    "splits = 5\n",
    "# Define número de folds\n",
    "kf = KFold(n_splits=splits, shuffle=True)\n",
    "\n",
    "print(\"Treinamento da rede utilizando KFold com\", splits, \"folds\")\n",
    "\n",
    "# Treina e avalia modelo\n",
    "# 12 neurônios na camada de entradauuu\n",
    "# 2 neurônios na camada de saída\n",
    "# 1 camada oculta com 6 neurônios\n",
    "# 2000 épocas\n",
    "# 0.32 de taxa de aprendizado\n",
    "# 0.72 de momento\n",
    "# 0.199 de performance\n",
    "model_kfold = MLPClassifier(hidden_layer_sizes=(6,), max_iter=2000, learning_rate_init=0.32, momentum=0.72)\n",
    "\n",
    "# Itera sobre os folds\n",
    "count = 0\n",
    "for train_index, test_index in kf.split(X):\n",
    "    X_train, X_test = X.iloc[train_index], X.iloc[test_index]\n",
    "    y_train, y_test = y.iloc[train_index], y.iloc[test_index]\n",
    "\n",
    "    count += 1\n",
    "    print('Treinando modelo... Fold numero:', count)\n",
    "\n",
    "    model_kfold.fit(X_train, y_train)\n",
    "    score = model_kfold.score(X_test, y_test)\n",
    "    print('Score:', score)"
   ]
  }
 ],
 "metadata": {
  "kernelspec": {
   "display_name": ".venv",
   "language": "python",
   "name": "python3"
  },
  "language_info": {
   "codemirror_mode": {
    "name": "ipython",
    "version": 3
   },
   "file_extension": ".py",
   "mimetype": "text/x-python",
   "name": "python",
   "nbconvert_exporter": "python",
   "pygments_lexer": "ipython3",
   "version": "3.10.12"
  }
 },
 "nbformat": 4,
 "nbformat_minor": 2
}
